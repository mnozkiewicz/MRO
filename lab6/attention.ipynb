{
 "cells": [
  {
   "cell_type": "code",
   "execution_count": 11,
   "metadata": {},
   "outputs": [],
   "source": [
    "import torch\n",
    "import torchvision\n",
    "from torch.utils.data import Dataset, DataLoader\n",
    "from torchvision.transforms import v2\n",
    "from multiprocessing import active_children"
   ]
  },
  {
   "cell_type": "code",
   "execution_count": 15,
   "metadata": {},
   "outputs": [],
   "source": [
    "def load_dataset(train: bool, transform: v2.Compose, download=False) -> Dataset:\n",
    "    return torchvision.datasets.CIFAR10(root='./data', train=train, download=download, transform=transform)\n",
    "\n",
    "basic_transform = v2.Compose([\n",
    "    v2.ToImage(), \n",
    "    v2.ToDtype(torch.float32, scale=True),\n",
    "    v2.Normalize((0.4914, 0.4822, 0.4465), (0.2470, 0.2435, 0.2616)),\n",
    "])\n",
    "\n",
    "train_dataset = load_dataset(train=True, transform=basic_transform)\n",
    "train_loader = DataLoader(train_dataset, batch_size=16)"
   ]
  },
  {
   "cell_type": "code",
   "execution_count": 16,
   "metadata": {},
   "outputs": [],
   "source": [
    "img_batch, labels = next(iter(train_loader))"
   ]
  },
  {
   "cell_type": "code",
   "execution_count": 17,
   "metadata": {},
   "outputs": [
    {
     "data": {
      "text/plain": [
       "torch.Size([16, 3, 32, 32])"
      ]
     },
     "execution_count": 17,
     "metadata": {},
     "output_type": "execute_result"
    }
   ],
   "source": [
    "img_batch.shape"
   ]
  },
  {
   "cell_type": "code",
   "execution_count": 18,
   "metadata": {},
   "outputs": [],
   "source": [
    "import matplotlib.pyplot as plt\n",
    "\n",
    "mean = torch.tensor([0.4914, 0.4822, 0.4465])\n",
    "std = torch.tensor([0.2470, 0.2435, 0.2616])\n",
    "\n",
    "def unnormalize_batch(batch: torch.Tensor):\n",
    "    unnormalized = batch.permute(0, 2, 3, 1)*std + mean\n",
    "    return unnormalized.permute(0, 3, 1, 2)\n",
    "    \n",
    "\n",
    "def visualize_patches(sequence_of_patches: torch.Tensor, patch_size: int, nrow: int) -> None:\n",
    "    sequence_length  = len(sequence_of_patches)\n",
    "    sequence_of_images = sequence_of_patches.reshape(sequence_length, 3,patch_size, patch_size)\n",
    "    \n",
    "    sequence_of_images = unnormalize_batch(sequence_of_images)\n",
    "    image_grid = torchvision.utils.make_grid(sequence_of_images, nrow=nrow, padding=1, pad_value=1)\n",
    "    \n",
    "    plt.imshow(image_grid.permute(1, 2, 0))\n",
    "    plt.axis(\"off\")\n",
    "    plt.show()"
   ]
  },
  {
   "cell_type": "code",
   "execution_count": 33,
   "metadata": {},
   "outputs": [
    {
     "data": {
      "text/plain": [
       "(16, 192)"
      ]
     },
     "execution_count": 33,
     "metadata": {},
     "output_type": "execute_result"
    }
   ],
   "source": [
    "import torch.nn as nn\n",
    "\n",
    "\n",
    "class Patch(nn.Module):\n",
    "\n",
    "    def __init__(self, patch_size: int, image_size: int, in_channels: int = 3):\n",
    "        super().__init__()\n",
    "\n",
    "        if image_size % patch_size:\n",
    "            raise AssertionError(\"Image size should be multiple of patch size\")\n",
    "\n",
    "        self.unfold = nn.Unfold((patch_size, patch_size), stride=patch_size)\n",
    "\n",
    "        self._patches_per_example = image_size*image_size // (patch_size*patch_size)\n",
    "        self._patch_vector_size = (patch_size*patch_size*in_channels)\n",
    "\n",
    "    \n",
    "    def forward(self, x):\n",
    "        unfolded = self.unfold(x)\n",
    "        return unfolded.permute(0, 2, 1)\n",
    "    \n",
    "    @property\n",
    "    def patches_per_example(self):\n",
    "        return self._patches_per_example\n",
    "    \n",
    "    @property\n",
    "    def patch_vector_size(self):\n",
    "        return self._patch_vector_size\n",
    "\n",
    "    \n",
    "patching = Patch(8, 32)\n",
    "patching.patches_per_example, patching.patch_vector_size"
   ]
  },
  {
   "cell_type": "code",
   "execution_count": 36,
   "metadata": {},
   "outputs": [
    {
     "data": {
      "image/png": "[encoded data removed]",
      "text/plain": [
       "<Figure size 640x480 with 1 Axes>"
      ]
     },
     "metadata": {},
     "output_type": "display_data"
    },
    {
     "data": {
      "text/plain": [
       "torch.Size([16, 16, 192])"
      ]
     },
     "execution_count": 36,
     "metadata": {},
     "output_type": "execute_result"
    }
   ],
   "source": [
    "unfolded = patching(img_batch)\n",
    "visualize_patches(unfolded[0], 8, nrow=4) # visualize fist sequence from batch\n",
    "unfolded.shape"
   ]
  },
  {
   "cell_type": "code",
   "execution_count": 266,
   "metadata": {},
   "outputs": [],
   "source": [
    "class Transformer(nn.Module):\n",
    "\n",
    "    def __init__(self):\n",
    "        super().__init__()\n",
    "\n",
    "        self.layer_norm1= nn.LayerNorm(256)\n",
    "        self.layer_norm2= nn.LayerNorm(256)\n",
    "\n",
    "        self.linear1 = nn.Linear(256, 512)\n",
    "        self.linear2 = nn.Linear(512, 256)\n",
    "\n",
    "        self.attention = nn.MultiheadAttention(256, 8)\n",
    "\n",
    "        self.gelu = nn.GELU()\n",
    "        self.dropout = nn.Dropout()\n",
    "\n",
    "    def forward(self, x):\n",
    "        \n",
    "        x_residual1 = self.layer_norm1(x)\n",
    "\n",
    "        x_attention, attention_weights = self.attention(x, x, x)\n",
    "        x_residual2 = x_residual1 + x_attention\n",
    "\n",
    "        x = self.layer_norm2(x_residual2)\n",
    "\n",
    "        x = self.linear1(x)\n",
    "        x = self.gelu(x)\n",
    "        x = self.dropout(x)\n",
    "\n",
    "        x = self.linear2(x)\n",
    "        x = self.dropout(x)\n",
    "\n",
    "        x += x_residual2\n",
    "\n",
    "        return x\n",
    "\n",
    "class VIT(nn.Module):\n",
    "\n",
    "    def __init__(self):\n",
    "        super().__init__()\n",
    "\n",
    "        self.linear = nn.Linear(192, 256)\n",
    "        self.cls_token = nn.Parameter(torch.randn(1, 1, 256))\n",
    "        self.pos_encoding = nn.Parameter(torch.randn(1, 17, 256))\n",
    "\n",
    "\n",
    "        self.transformers = nn.ModuleList([\n",
    "            Transformer() for _ in range(6)\n",
    "        ])\n",
    "\n",
    "        self.dropout = nn.Dropout(0.2)\n",
    "        self.layer_norm = nn.LayerNorm(256)\n",
    "        self.linear_decision = nn.Linear(256, 10)\n",
    "\n",
    "\n",
    "    def forward(self, x):\n",
    "        x = self.linear(x)\n",
    "        x = torch.column_stack((self.cls_token.repeat(16, 1, 1), x))\n",
    "        x = x.reshape(16, 17, 256)\n",
    "        x += self.pos_encoding\n",
    "        x = self.dropout(x)\n",
    "\n",
    "        for transformer in self.transformers:\n",
    "            x = transformer(x)\n",
    "\n",
    "        cls_token = x[:, 0, :]\n",
    "\n",
    "        final = self.layer_norm(cls_token)\n",
    "        final = self.linear_decision(final)\n",
    "        return final"
   ]
  },
  {
   "cell_type": "code",
   "execution_count": 271,
   "metadata": {},
   "outputs": [
    {
     "data": {
      "text/plain": [
       "torch.Size([16, 10])"
      ]
     },
     "execution_count": 271,
     "metadata": {},
     "output_type": "execute_result"
    }
   ],
   "source": [
    "vit = VIT().to(\"mps\")\n",
    "out = vit(unfolded.to(\"mps\"))\n",
    "out.shape"
   ]
  },
  {
   "cell_type": "code",
   "execution_count": 269,
   "metadata": {},
   "outputs": [
    {
     "data": {
      "text/plain": [
       "3219722"
      ]
     },
     "execution_count": 269,
     "metadata": {},
     "output_type": "execute_result"
    }
   ],
   "source": [
    "sum(p.numel() for p in vit.parameters())"
   ]
  }
 ],
 "metadata": {
  "kernelspec": {
   "display_name": ".venv",
   "language": "python",
   "name": "python3"
  },
  "language_info": {
   "codemirror_mode": {
    "name": "ipython",
    "version": 3
   },
   "file_extension": ".py",
   "mimetype": "text/x-python",
   "name": "python",
   "nbconvert_exporter": "python",
   "pygments_lexer": "ipython3",
   "version": "3.12.4"
  }
 },
 "nbformat": 4,
 "nbformat_minor": 2
}
