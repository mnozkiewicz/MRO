{
 "cells": [
  {
   "cell_type": "code",
   "id": "initial_id",
   "metadata": {
    "collapsed": true,
    "ExecuteTime": {
     "end_time": "2024-10-17T21:33:02.809344Z",
     "start_time": "2024-10-17T21:33:02.789342Z"
    }
   },
   "source": [
    "import torch\n",
    "import torchvision\n",
    "from torchvision import transforms\n",
    "import torch.utils.data"
   ],
   "outputs": [],
   "execution_count": 16
  },
  {
   "metadata": {
    "ExecuteTime": {
     "end_time": "2024-10-17T21:33:03.478651Z",
     "start_time": "2024-10-17T21:33:03.462520Z"
    }
   },
   "cell_type": "code",
   "source": [
    "transform = transforms.Compose(\n",
    "    [transforms.ToTensor(),\n",
    "     transforms.Normalize((0.4914, 0.4822, 0.4465), (0.2023, 0.1994, 0.2010))])\n",
    "\n",
    "def load_dataset(train: bool) -> torch.utils.data.Dataset:\n",
    "    return torchvision.datasets.CIFAR10(root='./data', train=train, transform=transform)\n",
    "\n",
    "def create_data_loader(dataset: torch.utils.data.Dataset, batch_size: int, num_workers: int, shuffle: bool) -> torch.utils.data.DataLoader:\n",
    "    return torch.utils.data.DataLoader(\n",
    "        dataset, \n",
    "        batch_size=batch_size,\n",
    "        shuffle=shuffle, \n",
    "        num_workers=num_workers,\n",
    "    )"
   ],
   "id": "da8b4b958bc04de2",
   "outputs": [],
   "execution_count": 17
  },
  {
   "metadata": {
    "ExecuteTime": {
     "end_time": "2024-10-17T21:26:58.779713Z",
     "start_time": "2024-10-17T21:26:55.430055Z"
    }
   },
   "cell_type": "code",
   "source": [
    "BATCH_SIZE = 4\n",
    "NUM_WORKERS = 2\n",
    "\n",
    "train_dataset = load_dataset(train=True)\n",
    "test_dataset = load_dataset(train=False)\n",
    "train_dataset, val_dataset = torch.utils.data.dataset.random_split(train_dataset, [0.8, 0.2])\n",
    "\n",
    "classes = ('plane', 'car', 'bird', 'cat',\n",
    "           'deer', 'dog', 'frog', 'horse', 'ship', 'truck')"
   ],
   "id": "2c0df3abacce0176",
   "outputs": [],
   "execution_count": 13
  },
  {
   "metadata": {
    "ExecuteTime": {
     "end_time": "2024-10-17T21:30:30.839857Z",
     "start_time": "2024-10-17T21:30:30.832190Z"
    }
   },
   "cell_type": "code",
   "source": [
    "train_data_loader = create_data_loader(train_dataset, batch_size=BATCH_SIZE, shuffle=True, num_workers=NUM_WORKERS)\n",
    "val_data_loader = create_data_loader(val_dataset, batch_size=BATCH_SIZE, shuffle=False, num_workers=NUM_WORKERS)\n",
    "test_data_loader = create_data_loader(test_dataset, batch_size=BATCH_SIZE, shuffle=False, num_workers=NUM_WORKERS)"
   ],
   "id": "6d383f6d3e466af7",
   "outputs": [],
   "execution_count": 15
  },
  {
   "metadata": {
    "ExecuteTime": {
     "end_time": "2024-10-17T21:43:48.544113Z",
     "start_time": "2024-10-17T21:43:26.410310Z"
    }
   },
   "cell_type": "code",
   "source": "train_iter = iter(train_data_loader)",
   "id": "588d147170ec475c",
   "outputs": [],
   "execution_count": 30
  },
  {
   "metadata": {
    "ExecuteTime": {
     "end_time": "2024-10-17T21:43:49.939417Z",
     "start_time": "2024-10-17T21:43:49.931308Z"
    }
   },
   "cell_type": "code",
   "source": "import matplotlib.pyplot as plt",
   "id": "f00d3433e2289607",
   "outputs": [],
   "execution_count": 31
  },
  {
   "metadata": {
    "ExecuteTime": {
     "end_time": "2024-10-17T21:45:39.663203Z",
     "start_time": "2024-10-17T21:45:39.653203Z"
    }
   },
   "cell_type": "code",
   "source": "batch, y_hat = next(train_iter)",
   "id": "2338bd07697d1aca",
   "outputs": [],
   "execution_count": 54
  },
  {
   "metadata": {
    "ExecuteTime": {
     "end_time": "2024-10-17T21:45:40.066943Z",
     "start_time": "2024-10-17T21:45:40.061622Z"
    }
   },
   "cell_type": "code",
   "source": "example: torch.tensor = batch[0]",
   "id": "e478c44a4e2f765d",
   "outputs": [],
   "execution_count": 55
  },
  {
   "metadata": {
    "ExecuteTime": {
     "end_time": "2024-10-17T21:45:40.472608Z",
     "start_time": "2024-10-17T21:45:40.463336Z"
    }
   },
   "cell_type": "code",
   "source": "example.shape",
   "id": "3e01ffaaa45f874c",
   "outputs": [
    {
     "data": {
      "text/plain": [
       "torch.Size([3, 32, 32])"
      ]
     },
     "execution_count": 56,
     "metadata": {},
     "output_type": "execute_result"
    }
   ],
   "execution_count": 56
  },
  {
   "metadata": {
    "ExecuteTime": {
     "end_time": "2024-10-17T21:45:41.172678Z",
     "start_time": "2024-10-17T21:45:40.924595Z"
    }
   },
   "cell_type": "code",
   "source": "plt.imshow(example.permute(1, 2, 0))",
   "id": "c336d97cf275e880",
   "outputs": [
    {
     "name": "stderr",
     "output_type": "stream",
     "text": [
      "Clipping input data to the valid range for imshow with RGB data ([0..1] for floats or [0..255] for integers).\n"
     ]
    },
    {
     "data": {
      "text/plain": [
       "<matplotlib.image.AxesImage at 0x13c39c0ec10>"
      ]
     },
     "execution_count": 57,
     "metadata": {},
     "output_type": "execute_result"
    },
    {
     "data": {
      "text/plain": [
       "<Figure size 640x480 with 1 Axes>"
      ],
      "image/png": "[encoded data removed]"
     },
     "metadata": {},
     "output_type": "display_data"
    }
   ],
   "execution_count": 57
  },
  {
   "metadata": {},
   "cell_type": "code",
   "outputs": [],
   "execution_count": null,
   "source": "",
   "id": "ca2d3475f13c7e73"
  }
 ],
 "metadata": {
  "kernelspec": {
   "display_name": "Python 3",
   "language": "python",
   "name": "python3"
  },
  "language_info": {
   "codemirror_mode": {
    "name": "ipython",
    "version": 2
   },
   "file_extension": ".py",
   "mimetype": "text/x-python",
   "name": "python",
   "nbconvert_exporter": "python",
   "pygments_lexer": "ipython2",
   "version": "2.7.6"
  }
 },
 "nbformat": 4,
 "nbformat_minor": 5
}
